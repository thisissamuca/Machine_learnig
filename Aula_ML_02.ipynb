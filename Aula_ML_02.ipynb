{
  "nbformat": 4,
  "nbformat_minor": 0,
  "metadata": {
    "colab": {
      "name": "Aula_ML_02.ipynb",
      "provenance": [],
      "authorship_tag": "ABX9TyNJoETg+ol79wmY5Curz/sq",
      "include_colab_link": true
    },
    "kernelspec": {
      "name": "python3",
      "display_name": "Python 3"
    },
    "language_info": {
      "name": "python"
    }
  },
  "cells": [
    {
      "cell_type": "markdown",
      "metadata": {
        "id": "view-in-github",
        "colab_type": "text"
      },
      "source": [
        "<a href=\"https://colab.research.google.com/github/thisissamuca/Machine_learnig/blob/main/Aula_ML_02.ipynb\" target=\"_parent\"><img src=\"https://colab.research.google.com/assets/colab-badge.svg\" alt=\"Open In Colab\"/></a>"
      ]
    },
    {
      "cell_type": "markdown",
      "source": [
        "# **Aprendizado de maquina**"
      ],
      "metadata": {
        "id": "3YwTij3c9Fxt"
      }
    },
    {
      "cell_type": "markdown",
      "source": [
        "## **Instalando bibliotecas**"
      ],
      "metadata": {
        "id": "JcRu6cSp97R_"
      }
    },
    {
      "cell_type": "code",
      "execution_count": null,
      "metadata": {
        "colab": {
          "base_uri": "https://localhost:8080/"
        },
        "id": "A-IqsGVr56g-",
        "outputId": "a41f9c5e-f9bb-44f7-80ee-ef85116d496b"
      },
      "outputs": [
        {
          "output_type": "stream",
          "name": "stdout",
          "text": [
            "Looking in indexes: https://pypi.org/simple, https://us-python.pkg.dev/colab-wheels/public/simple/\n",
            "Requirement already satisfied: tensorflow in /usr/local/lib/python3.7/dist-packages (2.8.2+zzzcolab20220527125636)\n",
            "Requirement already satisfied: wrapt>=1.11.0 in /usr/local/lib/python3.7/dist-packages (from tensorflow) (1.14.1)\n",
            "Requirement already satisfied: absl-py>=0.4.0 in /usr/local/lib/python3.7/dist-packages (from tensorflow) (1.1.0)\n",
            "Requirement already satisfied: termcolor>=1.1.0 in /usr/local/lib/python3.7/dist-packages (from tensorflow) (1.1.0)\n",
            "Requirement already satisfied: astunparse>=1.6.0 in /usr/local/lib/python3.7/dist-packages (from tensorflow) (1.6.3)\n",
            "Requirement already satisfied: protobuf<3.20,>=3.9.2 in /usr/local/lib/python3.7/dist-packages (from tensorflow) (3.17.3)\n",
            "Requirement already satisfied: tensorflow-io-gcs-filesystem>=0.23.1 in /usr/local/lib/python3.7/dist-packages (from tensorflow) (0.26.0)\n",
            "Requirement already satisfied: google-pasta>=0.1.1 in /usr/local/lib/python3.7/dist-packages (from tensorflow) (0.2.0)\n",
            "Requirement already satisfied: opt-einsum>=2.3.2 in /usr/local/lib/python3.7/dist-packages (from tensorflow) (3.3.0)\n",
            "Requirement already satisfied: setuptools in /usr/local/lib/python3.7/dist-packages (from tensorflow) (57.4.0)\n",
            "Requirement already satisfied: six>=1.12.0 in /usr/local/lib/python3.7/dist-packages (from tensorflow) (1.15.0)\n",
            "Requirement already satisfied: typing-extensions>=3.6.6 in /usr/local/lib/python3.7/dist-packages (from tensorflow) (4.1.1)\n",
            "Requirement already satisfied: h5py>=2.9.0 in /usr/local/lib/python3.7/dist-packages (from tensorflow) (3.1.0)\n",
            "Requirement already satisfied: keras-preprocessing>=1.1.1 in /usr/local/lib/python3.7/dist-packages (from tensorflow) (1.1.2)\n",
            "Requirement already satisfied: keras<2.9,>=2.8.0rc0 in /usr/local/lib/python3.7/dist-packages (from tensorflow) (2.8.0)\n",
            "Requirement already satisfied: tensorboard<2.9,>=2.8 in /usr/local/lib/python3.7/dist-packages (from tensorflow) (2.8.0)\n",
            "Requirement already satisfied: numpy>=1.20 in /usr/local/lib/python3.7/dist-packages (from tensorflow) (1.21.6)\n",
            "Requirement already satisfied: libclang>=9.0.1 in /usr/local/lib/python3.7/dist-packages (from tensorflow) (14.0.1)\n",
            "Requirement already satisfied: gast>=0.2.1 in /usr/local/lib/python3.7/dist-packages (from tensorflow) (0.5.3)\n",
            "Requirement already satisfied: flatbuffers>=1.12 in /usr/local/lib/python3.7/dist-packages (from tensorflow) (2.0)\n",
            "Requirement already satisfied: tensorflow-estimator<2.9,>=2.8 in /usr/local/lib/python3.7/dist-packages (from tensorflow) (2.8.0)\n",
            "Requirement already satisfied: grpcio<2.0,>=1.24.3 in /usr/local/lib/python3.7/dist-packages (from tensorflow) (1.47.0)\n",
            "Requirement already satisfied: wheel<1.0,>=0.23.0 in /usr/local/lib/python3.7/dist-packages (from astunparse>=1.6.0->tensorflow) (0.37.1)\n",
            "Requirement already satisfied: cached-property in /usr/local/lib/python3.7/dist-packages (from h5py>=2.9.0->tensorflow) (1.5.2)\n",
            "Requirement already satisfied: werkzeug>=0.11.15 in /usr/local/lib/python3.7/dist-packages (from tensorboard<2.9,>=2.8->tensorflow) (1.0.1)\n",
            "Requirement already satisfied: tensorboard-plugin-wit>=1.6.0 in /usr/local/lib/python3.7/dist-packages (from tensorboard<2.9,>=2.8->tensorflow) (1.8.1)\n",
            "Requirement already satisfied: requests<3,>=2.21.0 in /usr/local/lib/python3.7/dist-packages (from tensorboard<2.9,>=2.8->tensorflow) (2.23.0)\n",
            "Requirement already satisfied: markdown>=2.6.8 in /usr/local/lib/python3.7/dist-packages (from tensorboard<2.9,>=2.8->tensorflow) (3.3.7)\n",
            "Requirement already satisfied: tensorboard-data-server<0.7.0,>=0.6.0 in /usr/local/lib/python3.7/dist-packages (from tensorboard<2.9,>=2.8->tensorflow) (0.6.1)\n",
            "Requirement already satisfied: google-auth<3,>=1.6.3 in /usr/local/lib/python3.7/dist-packages (from tensorboard<2.9,>=2.8->tensorflow) (1.35.0)\n",
            "Requirement already satisfied: google-auth-oauthlib<0.5,>=0.4.1 in /usr/local/lib/python3.7/dist-packages (from tensorboard<2.9,>=2.8->tensorflow) (0.4.6)\n",
            "Requirement already satisfied: rsa<5,>=3.1.4 in /usr/local/lib/python3.7/dist-packages (from google-auth<3,>=1.6.3->tensorboard<2.9,>=2.8->tensorflow) (4.8)\n",
            "Requirement already satisfied: pyasn1-modules>=0.2.1 in /usr/local/lib/python3.7/dist-packages (from google-auth<3,>=1.6.3->tensorboard<2.9,>=2.8->tensorflow) (0.2.8)\n",
            "Requirement already satisfied: cachetools<5.0,>=2.0.0 in /usr/local/lib/python3.7/dist-packages (from google-auth<3,>=1.6.3->tensorboard<2.9,>=2.8->tensorflow) (4.2.4)\n",
            "Requirement already satisfied: requests-oauthlib>=0.7.0 in /usr/local/lib/python3.7/dist-packages (from google-auth-oauthlib<0.5,>=0.4.1->tensorboard<2.9,>=2.8->tensorflow) (1.3.1)\n",
            "Requirement already satisfied: importlib-metadata>=4.4 in /usr/local/lib/python3.7/dist-packages (from markdown>=2.6.8->tensorboard<2.9,>=2.8->tensorflow) (4.12.0)\n",
            "Requirement already satisfied: zipp>=0.5 in /usr/local/lib/python3.7/dist-packages (from importlib-metadata>=4.4->markdown>=2.6.8->tensorboard<2.9,>=2.8->tensorflow) (3.8.0)\n",
            "Requirement already satisfied: pyasn1<0.5.0,>=0.4.6 in /usr/local/lib/python3.7/dist-packages (from pyasn1-modules>=0.2.1->google-auth<3,>=1.6.3->tensorboard<2.9,>=2.8->tensorflow) (0.4.8)\n",
            "Requirement already satisfied: certifi>=2017.4.17 in /usr/local/lib/python3.7/dist-packages (from requests<3,>=2.21.0->tensorboard<2.9,>=2.8->tensorflow) (2022.6.15)\n",
            "Requirement already satisfied: urllib3!=1.25.0,!=1.25.1,<1.26,>=1.21.1 in /usr/local/lib/python3.7/dist-packages (from requests<3,>=2.21.0->tensorboard<2.9,>=2.8->tensorflow) (1.24.3)\n",
            "Requirement already satisfied: idna<3,>=2.5 in /usr/local/lib/python3.7/dist-packages (from requests<3,>=2.21.0->tensorboard<2.9,>=2.8->tensorflow) (2.10)\n",
            "Requirement already satisfied: chardet<4,>=3.0.2 in /usr/local/lib/python3.7/dist-packages (from requests<3,>=2.21.0->tensorboard<2.9,>=2.8->tensorflow) (3.0.4)\n",
            "Requirement already satisfied: oauthlib>=3.0.0 in /usr/local/lib/python3.7/dist-packages (from requests-oauthlib>=0.7.0->google-auth-oauthlib<0.5,>=0.4.1->tensorboard<2.9,>=2.8->tensorflow) (3.2.0)\n"
          ]
        }
      ],
      "source": [
        "pip install tensorflow"
      ]
    },
    {
      "cell_type": "code",
      "source": [
        "pip install keras"
      ],
      "metadata": {
        "colab": {
          "base_uri": "https://localhost:8080/"
        },
        "id": "DSOivOq4-wFl",
        "outputId": "e608ffe5-ad01-485c-9153-aee0f0d2a0ca"
      },
      "execution_count": null,
      "outputs": [
        {
          "output_type": "stream",
          "name": "stdout",
          "text": [
            "Looking in indexes: https://pypi.org/simple, https://us-python.pkg.dev/colab-wheels/public/simple/\n",
            "Requirement already satisfied: keras in /usr/local/lib/python3.7/dist-packages (2.8.0)\n"
          ]
        }
      ]
    },
    {
      "cell_type": "markdown",
      "source": [
        "## **Importando bibliotecas importantes**"
      ],
      "metadata": {
        "id": "yOQE0UhC99yl"
      }
    },
    {
      "cell_type": "code",
      "source": [
        "import tensorflow as tf \n",
        "import keras\n",
        "import numpy as np"
      ],
      "metadata": {
        "id": "CYnXdjRV9wAm"
      },
      "execution_count": null,
      "outputs": []
    },
    {
      "cell_type": "markdown",
      "source": [
        "## **Problema:**\n",
        "\n",
        "Qual o raciocínio por trás da sequencia de números Y que é gerado a partir dos números X?\n",
        "\n",
        "X = [-1, 0, 1, 2, 3, 4]\n",
        "\n",
        "Y = [-3, -1, 1, 3, 5, 7]\n",
        "\n",
        "Existe uma fórmula matemática por trás:\n",
        "\n",
        "Y = 2 * X - 1"
      ],
      "metadata": {
        "id": "RrMRamSa-B9g"
      }
    },
    {
      "cell_type": "markdown",
      "source": [
        "## **Criar modelo sequencial (simples) com 1 camada, 1 neurônio e 1 dado de entrada**"
      ],
      "metadata": {
        "id": "dgadK7tO-k48"
      }
    },
    {
      "cell_type": "markdown",
      "source": [
        "O modelo sequencial é útil quando temos apenas um dado de entrada e um de saída"
      ],
      "metadata": {
        "id": "gEIgNB1Z_EPS"
      }
    },
    {
      "cell_type": "code",
      "source": [
        "model = keras.Sequential([keras.layers.Dense(units=1, input_shape=[1])])\n",
        "\n",
        "# Units = Quantidade de neurônios da camada\n",
        "\n",
        "# Input_shape = Formato dos dados de entrada"
      ],
      "metadata": {
        "id": "E7L1JDV6-sqc"
      },
      "execution_count": null,
      "outputs": []
    },
    {
      "cell_type": "code",
      "source": [
        "model.compile(optimizer='sgd', loss='mean_squared_error')"
      ],
      "metadata": {
        "id": "7FV8s9_f_U_p"
      },
      "execution_count": null,
      "outputs": []
    },
    {
      "cell_type": "code",
      "source": [
        "# Dando os dados e as respostas\n",
        "\n",
        "xs = np.array([-1.0, 0.0, 1.0, 2.0, 3.0, 4.0], dtype=float)\n",
        "ys =np.array([-3.0, -1.0, 1.0, 3.0, 5.0, 7.0], dtype=float)"
      ],
      "metadata": {
        "id": "Tw-cjLwx_spU"
      },
      "execution_count": null,
      "outputs": []
    },
    {
      "cell_type": "code",
      "source": [
        "# Treinando o modelo com os dados de entrada e de saída e o número de épocas\n",
        "\n",
        "model.fit(xs, ys, epochs=90)"
      ],
      "metadata": {
        "colab": {
          "base_uri": "https://localhost:8080/"
        },
        "id": "H7oll_9BAFcH",
        "outputId": "4f358b36-cd47-4a69-d570-8d7b4b85e4ec"
      },
      "execution_count": null,
      "outputs": [
        {
          "output_type": "stream",
          "name": "stdout",
          "text": [
            "Epoch 1/90\n",
            "1/1 [==============================] - 0s 32ms/step - loss: 0.4511\n",
            "Epoch 2/90\n",
            "1/1 [==============================] - 0s 20ms/step - loss: 0.4417\n",
            "Epoch 3/90\n",
            "1/1 [==============================] - 0s 22ms/step - loss: 0.4324\n",
            "Epoch 4/90\n",
            "1/1 [==============================] - 0s 16ms/step - loss: 0.4234\n",
            "Epoch 5/90\n",
            "1/1 [==============================] - 0s 8ms/step - loss: 0.4146\n",
            "Epoch 6/90\n",
            "1/1 [==============================] - 0s 7ms/step - loss: 0.4060\n",
            "Epoch 7/90\n",
            "1/1 [==============================] - 0s 8ms/step - loss: 0.3976\n",
            "Epoch 8/90\n",
            "1/1 [==============================] - 0s 8ms/step - loss: 0.3894\n",
            "Epoch 9/90\n",
            "1/1 [==============================] - 0s 14ms/step - loss: 0.3814\n",
            "Epoch 10/90\n",
            "1/1 [==============================] - 0s 11ms/step - loss: 0.3735\n",
            "Epoch 11/90\n",
            "1/1 [==============================] - 0s 17ms/step - loss: 0.3658\n",
            "Epoch 12/90\n",
            "1/1 [==============================] - 0s 9ms/step - loss: 0.3583\n",
            "Epoch 13/90\n",
            "1/1 [==============================] - 0s 22ms/step - loss: 0.3509\n",
            "Epoch 14/90\n",
            "1/1 [==============================] - 0s 8ms/step - loss: 0.3437\n",
            "Epoch 15/90\n",
            "1/1 [==============================] - 0s 6ms/step - loss: 0.3366\n",
            "Epoch 16/90\n",
            "1/1 [==============================] - 0s 6ms/step - loss: 0.3297\n",
            "Epoch 17/90\n",
            "1/1 [==============================] - 0s 7ms/step - loss: 0.3229\n",
            "Epoch 18/90\n",
            "1/1 [==============================] - 0s 6ms/step - loss: 0.3163\n",
            "Epoch 19/90\n",
            "1/1 [==============================] - 0s 6ms/step - loss: 0.3098\n",
            "Epoch 20/90\n",
            "1/1 [==============================] - 0s 6ms/step - loss: 0.3034\n",
            "Epoch 21/90\n",
            "1/1 [==============================] - 0s 6ms/step - loss: 0.2972\n",
            "Epoch 22/90\n",
            "1/1 [==============================] - 0s 6ms/step - loss: 0.2911\n",
            "Epoch 23/90\n",
            "1/1 [==============================] - 0s 6ms/step - loss: 0.2851\n",
            "Epoch 24/90\n",
            "1/1 [==============================] - 0s 6ms/step - loss: 0.2792\n",
            "Epoch 25/90\n",
            "1/1 [==============================] - 0s 6ms/step - loss: 0.2735\n",
            "Epoch 26/90\n",
            "1/1 [==============================] - 0s 6ms/step - loss: 0.2679\n",
            "Epoch 27/90\n",
            "1/1 [==============================] - 0s 6ms/step - loss: 0.2624\n",
            "Epoch 28/90\n",
            "1/1 [==============================] - 0s 6ms/step - loss: 0.2570\n",
            "Epoch 29/90\n",
            "1/1 [==============================] - 0s 6ms/step - loss: 0.2517\n",
            "Epoch 30/90\n",
            "1/1 [==============================] - 0s 6ms/step - loss: 0.2465\n",
            "Epoch 31/90\n",
            "1/1 [==============================] - 0s 6ms/step - loss: 0.2415\n",
            "Epoch 32/90\n",
            "1/1 [==============================] - 0s 6ms/step - loss: 0.2365\n",
            "Epoch 33/90\n",
            "1/1 [==============================] - 0s 6ms/step - loss: 0.2316\n",
            "Epoch 34/90\n",
            "1/1 [==============================] - 0s 6ms/step - loss: 0.2269\n",
            "Epoch 35/90\n",
            "1/1 [==============================] - 0s 6ms/step - loss: 0.2222\n",
            "Epoch 36/90\n",
            "1/1 [==============================] - 0s 6ms/step - loss: 0.2177\n",
            "Epoch 37/90\n",
            "1/1 [==============================] - 0s 6ms/step - loss: 0.2132\n",
            "Epoch 38/90\n",
            "1/1 [==============================] - 0s 6ms/step - loss: 0.2088\n",
            "Epoch 39/90\n",
            "1/1 [==============================] - 0s 6ms/step - loss: 0.2045\n",
            "Epoch 40/90\n",
            "1/1 [==============================] - 0s 6ms/step - loss: 0.2003\n",
            "Epoch 41/90\n",
            "1/1 [==============================] - 0s 5ms/step - loss: 0.1962\n",
            "Epoch 42/90\n",
            "1/1 [==============================] - 0s 6ms/step - loss: 0.1922\n",
            "Epoch 43/90\n",
            "1/1 [==============================] - 0s 6ms/step - loss: 0.1882\n",
            "Epoch 44/90\n",
            "1/1 [==============================] - 0s 6ms/step - loss: 0.1844\n",
            "Epoch 45/90\n",
            "1/1 [==============================] - 0s 6ms/step - loss: 0.1806\n",
            "Epoch 46/90\n",
            "1/1 [==============================] - 0s 6ms/step - loss: 0.1769\n",
            "Epoch 47/90\n",
            "1/1 [==============================] - 0s 6ms/step - loss: 0.1732\n",
            "Epoch 48/90\n",
            "1/1 [==============================] - 0s 6ms/step - loss: 0.1697\n",
            "Epoch 49/90\n",
            "1/1 [==============================] - 0s 6ms/step - loss: 0.1662\n",
            "Epoch 50/90\n",
            "1/1 [==============================] - 0s 6ms/step - loss: 0.1628\n",
            "Epoch 51/90\n",
            "1/1 [==============================] - 0s 8ms/step - loss: 0.1594\n",
            "Epoch 52/90\n",
            "1/1 [==============================] - 0s 6ms/step - loss: 0.1562\n",
            "Epoch 53/90\n",
            "1/1 [==============================] - 0s 6ms/step - loss: 0.1530\n",
            "Epoch 54/90\n",
            "1/1 [==============================] - 0s 6ms/step - loss: 0.1498\n",
            "Epoch 55/90\n",
            "1/1 [==============================] - 0s 5ms/step - loss: 0.1467\n",
            "Epoch 56/90\n",
            "1/1 [==============================] - 0s 6ms/step - loss: 0.1437\n",
            "Epoch 57/90\n",
            "1/1 [==============================] - 0s 5ms/step - loss: 0.1408\n",
            "Epoch 58/90\n",
            "1/1 [==============================] - 0s 6ms/step - loss: 0.1379\n",
            "Epoch 59/90\n",
            "1/1 [==============================] - 0s 6ms/step - loss: 0.1350\n",
            "Epoch 60/90\n",
            "1/1 [==============================] - 0s 6ms/step - loss: 0.1323\n",
            "Epoch 61/90\n",
            "1/1 [==============================] - 0s 6ms/step - loss: 0.1296\n",
            "Epoch 62/90\n",
            "1/1 [==============================] - 0s 7ms/step - loss: 0.1269\n",
            "Epoch 63/90\n",
            "1/1 [==============================] - 0s 6ms/step - loss: 0.1243\n",
            "Epoch 64/90\n",
            "1/1 [==============================] - 0s 11ms/step - loss: 0.1217\n",
            "Epoch 65/90\n",
            "1/1 [==============================] - 0s 6ms/step - loss: 0.1192\n",
            "Epoch 66/90\n",
            "1/1 [==============================] - 0s 6ms/step - loss: 0.1168\n",
            "Epoch 67/90\n",
            "1/1 [==============================] - 0s 6ms/step - loss: 0.1144\n",
            "Epoch 68/90\n",
            "1/1 [==============================] - 0s 6ms/step - loss: 0.1120\n",
            "Epoch 69/90\n",
            "1/1 [==============================] - 0s 6ms/step - loss: 0.1097\n",
            "Epoch 70/90\n",
            "1/1 [==============================] - 0s 6ms/step - loss: 0.1075\n",
            "Epoch 71/90\n",
            "1/1 [==============================] - 0s 5ms/step - loss: 0.1053\n",
            "Epoch 72/90\n",
            "1/1 [==============================] - 0s 6ms/step - loss: 0.1031\n",
            "Epoch 73/90\n",
            "1/1 [==============================] - 0s 5ms/step - loss: 0.1010\n",
            "Epoch 74/90\n",
            "1/1 [==============================] - 0s 6ms/step - loss: 0.0989\n",
            "Epoch 75/90\n",
            "1/1 [==============================] - 0s 6ms/step - loss: 0.0969\n",
            "Epoch 76/90\n",
            "1/1 [==============================] - 0s 6ms/step - loss: 0.0949\n",
            "Epoch 77/90\n",
            "1/1 [==============================] - 0s 6ms/step - loss: 0.0929\n",
            "Epoch 78/90\n",
            "1/1 [==============================] - 0s 6ms/step - loss: 0.0910\n",
            "Epoch 79/90\n",
            "1/1 [==============================] - 0s 6ms/step - loss: 0.0892\n",
            "Epoch 80/90\n",
            "1/1 [==============================] - 0s 6ms/step - loss: 0.0873\n",
            "Epoch 81/90\n",
            "1/1 [==============================] - 0s 6ms/step - loss: 0.0855\n",
            "Epoch 82/90\n",
            "1/1 [==============================] - 0s 5ms/step - loss: 0.0838\n",
            "Epoch 83/90\n",
            "1/1 [==============================] - 0s 5ms/step - loss: 0.0821\n",
            "Epoch 84/90\n",
            "1/1 [==============================] - 0s 6ms/step - loss: 0.0804\n",
            "Epoch 85/90\n",
            "1/1 [==============================] - 0s 6ms/step - loss: 0.0787\n",
            "Epoch 86/90\n",
            "1/1 [==============================] - 0s 6ms/step - loss: 0.0771\n",
            "Epoch 87/90\n",
            "1/1 [==============================] - 0s 6ms/step - loss: 0.0755\n",
            "Epoch 88/90\n",
            "1/1 [==============================] - 0s 6ms/step - loss: 0.0740\n",
            "Epoch 89/90\n",
            "1/1 [==============================] - 0s 6ms/step - loss: 0.0725\n",
            "Epoch 90/90\n",
            "1/1 [==============================] - 0s 6ms/step - loss: 0.0710\n"
          ]
        },
        {
          "output_type": "execute_result",
          "data": {
            "text/plain": [
              "<keras.callbacks.History at 0x7f222cc30c10>"
            ]
          },
          "metadata": {},
          "execution_count": 25
        }
      ]
    },
    {
      "cell_type": "code",
      "source": [
        "# Avaliando a predição\n",
        "\n",
        "print(model.predict([10]))"
      ],
      "metadata": {
        "colab": {
          "base_uri": "https://localhost:8080/"
        },
        "id": "0OAhGp3EATQu",
        "outputId": "0eacdebd-4649-43ce-8b32-22c7022a4b81"
      },
      "execution_count": null,
      "outputs": [
        {
          "output_type": "stream",
          "name": "stdout",
          "text": [
            "[[18.222773]]\n"
          ]
        }
      ]
    }
  ]
}